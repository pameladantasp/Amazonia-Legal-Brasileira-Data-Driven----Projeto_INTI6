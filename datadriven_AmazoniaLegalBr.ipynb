{
 "cells": [
  {
   "cell_type": "markdown",
   "id": "cc68274d-5331-43ec-924b-753398e83d86",
   "metadata": {},
   "source": [
    "# Análise de indicadores da Amazônia Legal Brasileira: uma perspectiva data-driven \n",
    " \n",
    "`Projeto disciplinar INTI6 (2023) - Inteligência Artificial` - `Aplicar técnicas de Ciência de Dados em um conjunto de dados (dataset).`\n",
    "\n",
    "> Pamela Dantas - CP3019012\n",
    "\n",
    "> Matheus Tosi - CP3019098\n",
    "\n",
    "\n",
    "\n",
    "Uma perspectiva data-driven é uma abordagem que se baseia em dados para tomar decisões.\n",
    "Essa abordagem enfatiza a importância da coleta, análise e interpretação de dados para entender um problema e identificar soluções. es. "
   ]
  },
  {
   "cell_type": "markdown",
   "id": "1c25de66-78a0-4b85-83ae-70f69394b88b",
   "metadata": {},
   "source": [
    "## Contextualização\n",
    "\n",
    "O desmatamento na Amazônia Legal Brasileira -- uma região de grande importância ecológica, econômica e social para o país -- é um problema grave que ameaça a integridade do local, causando a perda de biodiversidade, a redução da qualidade do solo e da água, e a intensificação do aquecimento e ebulição global. \n",
    "\n",
    "Acreditamos que este data-driven possa contribuir para a compreensão e o combate ao desmatamento da Amazônia Legal, pois o uso de dados é uma abordagem promissora para entender o problema. Por exemplo, podemos utilizar dos dados extraídos para:\n",
    "\n",
    "* identificar tendências de desmatamento ao longo do tempo, entender as causas do desmatamento;\n",
    "* identificar áreas com maior risco de desmatamento e áreas que precisam de atenção especial; \n",
    "* identificar correlações entre o desmatamento e outros fatores, como o desenvolvimento econômico, a pobreza e a mudança climática;\n",
    "* identificar as regiões da Amazônia Legal com os maiores índices de pobreza; \n",
    "* comparar as tendências ambientais, socioeconômicas e epidemiológicas na Amazônia Legal ao longo do tempo. "
   ]
  },
  {
   "cell_type": "markdown",
   "id": "8c31fefb-f56f-4796-bdd6-776b109617cc",
   "metadata": {},
   "source": [
    "## Base de dados"
   ]
  },
  {
   "cell_type": "markdown",
   "id": "19897ee0-0129-427c-8aaa-974b94f061b2",
   "metadata": {},
   "source": [
    "##### Dataset \n",
    "\n",
    "A base de dados, chamada \"Trajetória\", contém 36 indicadores ambientais, socioeconômicos e epidemiológicos dos municípios dos nove estados da Amazônia Legal Brasileira no perído de 2000-2017. A \"Trajetória\" é resultado de um projeto do Centro de Síntese em Biodiversidade e Serviços Ecossistêmicos (SinBiose/CNPq).\n",
    "\n",
    "##### Os indicadores são organizados em três dimensões principais:\n",
    "\n",
    "* Dimensão Socioeconómica: Esta dimensão inclui indicadores relacionados com pobreza, educação, saúde e habitação;\n",
    "* Dimensão Epidemiológica: Esta dimensão inclui indicadores relacionados às doenças transmitidas por vetores;\n",
    "* Dimensão Ambiental: Esta dimensão inclui indicadores relacionados à perda de habitat, uso e cobertura da terra, redes de transporte e anomalias climáticas.\n",
    "\n",
    "Cada dimensão é ainda dividida em subdimensões, que fornecem informações mais específicas sobre os indicadores. Por exemplo, a subdimensão “Pobreza” inclui indicadores relacionados ao Índice Multidimensional de Pobreza (IPM), enquanto a subdimensão “Doenças transmitidas por vetores” inclui indicadores relacionados à doença de Chagas, leishmaniose, leishmaniose visceral, dengue, malária falciparum, malária vivax e malária mista.\n",
    "\n",
    "Os indicadores também estão organizados por linha temporal, que nos mostra o período de tempo para o qual os dados estão disponíveis. Por exemplo, o indicador “IPM” está disponível para os anos 2000 e 2010, enquanto o indicador “Doença” está disponível para os períodos 2004-2008 e 2015-2019.\n",
    "\n",
    "Planilha - O que significa cada coluna do dataset: https://docs.google.com/spreadsheets/d/15nVf2VEOymfFIBGrhZrWQhHZCfe8RiRpHlmUmymQREQ/edit#gid=1369659124\n",
    "\n",
    "Bibliografia:\n",
    ">Ana C Rorato, Ana Paula Dal' Asta, Raquel M Lana, Ricardo B N dos Santos, Maria Isabel S Escada, Camila de M Vogt, Tatiana C Neves, Milton Barbosa, Cecilia S Andreazzi, Isabel C dos Reis, Danilo A Fernandes, Monica da Silva-Nunes, Annieli R de Souza, Antonio M V Monteiro, & Claudia T Codeço. (2022). Trajetorias dataset: environmental, epidemiological, and economic indicators for the Brazilian Amazon (1.0) [Data set]. Zenodo. https://doi.org/10.5281/zenodo.7098053"
   ]
  },
  {
   "cell_type": "markdown",
   "id": "a1b1b70b-b895-4ba8-b269-5d26e850473d",
   "metadata": {
    "jp-MarkdownHeadingCollapsed": true
   },
   "source": [
    "### Importando o dataset do GitHub"
   ]
  },
  {
   "cell_type": "code",
   "execution_count": 1,
   "id": "7a04ac05-6012-4923-9bbe-4e953fc928c9",
   "metadata": {},
   "outputs": [],
   "source": [
    "import pandas as pd\n",
    "import numpy as np\n",
    "import seaborn as sns\n",
    "import matplotlib.pyplot as plt\n",
    "\n",
    "from sklearn.model_selection import train_test_split\n",
    "from sklearn.tree import DecisionTreeClassifier\n",
    "from sklearn.metrics import classification_report, confusion_matrix, f1_score, accuracy_score\n",
    "\n",
    "\n",
    "\n",
    "# Indicadores de Dimensão Ambiental - Environmental_dimension_indicators\n",
    "data_env = pd.read_csv(\"https://raw.githubusercontent.com/pameladantasp/AmazoniaLegalBrasileira-DataDriven--Projeto_INTI6/BaseDeDados/TRAJETORIAS_DATASET_Environmental_dimension_indicators.csv\",\\\n",
    "                       delimiter=',', low_memory=False)\n",
    "\n",
    "# Indicadores de Dimensão Epidemiológica - Epidemiological_dimension_indicators\n",
    "data_epid = pd.read_csv(\"https://raw.githubusercontent.com/pameladantasp/AmazoniaLegalBrasileira-DataDriven--Projeto_INTI6/BaseDeDados/TRAJETORIAS_DATASET_Epidemiological_dimension_indicators.csv\", \\\n",
    "                       delimiter=',', low_memory=False)\n",
    "\n",
    "# Indicadores de Dimensão Socioeconomica - Socio-Economic_dimension-indicators\n",
    "data_socio = pd.read_csv(\"https://raw.githubusercontent.com/pameladantasp/AmazoniaLegalBrasileira-DataDriven--Projeto_INTI6/BaseDeDados/TRAJETORIAS_DATASET_Socio-Economic_dimension-indicators.csv\", \\\n",
    "                       delimiter=',', low_memory=False)\n"
   ]
  },
  {
   "cell_type": "markdown",
   "id": "84373149-62ec-45be-91de-82142f1e2b15",
   "metadata": {},
   "source": [
    "## 1. Pré-processamento - Preparando os datasets"
   ]
  },
  {
   "cell_type": "markdown",
   "id": "e36c0f7b-4d08-4792-a9f7-09c8afebd51b",
   "metadata": {},
   "source": [
    "### 1.1 Arrumando os datasets\n",
    "O código abaixo:\n",
    "1. retira as aspas dupla dos campos;\n",
    "2. retira as aspas dupla da header;\n",
    "3. seleciona as colunas que quero para a header, pois a atual está com tudo em 1 coluna;\n",
    "4. separa as colunas com base no separador (,);\n",
    "5. concatena as colunas selecionadas no data frame."
   ]
  },
  {
   "cell_type": "markdown",
   "id": "182e9fde-84d4-4234-912c-352332b2bf27",
   "metadata": {},
   "source": [
    "#### Epidemiological_dimension_indicators"
   ]
  },
  {
   "cell_type": "code",
   "execution_count": 2,
   "id": "b22289c4-5806-4b85-8344-24caf8b6bc39",
   "metadata": {},
   "outputs": [
    {
     "data": {
      "text/html": [
       "<div>\n",
       "<style scoped>\n",
       "    .dataframe tbody tr th:only-of-type {\n",
       "        vertical-align: middle;\n",
       "    }\n",
       "\n",
       "    .dataframe tbody tr th {\n",
       "        vertical-align: top;\n",
       "    }\n",
       "\n",
       "    .dataframe thead th {\n",
       "        text-align: right;\n",
       "    }\n",
       "</style>\n",
       "<table border=\"1\" class=\"dataframe\">\n",
       "  <thead>\n",
       "    <tr style=\"text-align: right;\">\n",
       "      <th></th>\n",
       "      <th>state_abbrev,\"state\",\"municipality\",\"geocode\",\"period\",\"zone\",\"disease\",\"cases\",\"inc\"</th>\n",
       "    </tr>\n",
       "  </thead>\n",
       "  <tbody>\n",
       "    <tr>\n",
       "      <th>0</th>\n",
       "      <td>RO,\"Rondônia\",\"Alta Floresta D'Oeste\",1100015,...</td>\n",
       "    </tr>\n",
       "  </tbody>\n",
       "</table>\n",
       "</div>"
      ],
      "text/plain": [
       "  state_abbrev,\"state\",\"municipality\",\"geocode\",\"period\",\"zone\",\"disease\",\"cases\",\"inc\"\n",
       "0  RO,\"Rondônia\",\"Alta Floresta D'Oeste\",1100015,...                                   "
      ]
     },
     "execution_count": 2,
     "metadata": {},
     "output_type": "execute_result"
    }
   ],
   "source": [
    "data_epid.head(1)"
   ]
  },
  {
   "cell_type": "code",
   "execution_count": 3,
   "id": "07e5aca4-5915-4fb2-b2db-cfddc223d585",
   "metadata": {},
   "outputs": [],
   "source": [
    "data_epid = data_epid.replace(r'\"', '', regex=True)                      \n",
    "data_epid.columns = data_epid.columns.map(lambda x: x.replace('\"', '')) \n",
    "\n",
    "cols_to_use_epid = ['state_abbrev','state','municipality','geocode','period','zone','disease','cases','inc']\n",
    "data_epid = data_epid['state_abbrev,state,municipality,geocode,period,zone,disease,cases,inc'].str.split(',', expand=True) \n",
    "data_epid.columns = cols_to_use_epid"
   ]
  },
  {
   "cell_type": "code",
   "execution_count": 4,
   "id": "0159596d-13b1-46e1-964b-707e85b7cbee",
   "metadata": {},
   "outputs": [
    {
     "data": {
      "text/html": [
       "<div>\n",
       "<style scoped>\n",
       "    .dataframe tbody tr th:only-of-type {\n",
       "        vertical-align: middle;\n",
       "    }\n",
       "\n",
       "    .dataframe tbody tr th {\n",
       "        vertical-align: top;\n",
       "    }\n",
       "\n",
       "    .dataframe thead th {\n",
       "        text-align: right;\n",
       "    }\n",
       "</style>\n",
       "<table border=\"1\" class=\"dataframe\">\n",
       "  <thead>\n",
       "    <tr style=\"text-align: right;\">\n",
       "      <th></th>\n",
       "      <th>state_abbrev</th>\n",
       "      <th>state</th>\n",
       "      <th>municipality</th>\n",
       "      <th>geocode</th>\n",
       "      <th>period</th>\n",
       "      <th>zone</th>\n",
       "      <th>disease</th>\n",
       "      <th>cases</th>\n",
       "      <th>inc</th>\n",
       "    </tr>\n",
       "  </thead>\n",
       "  <tbody>\n",
       "    <tr>\n",
       "      <th>0</th>\n",
       "      <td>RO</td>\n",
       "      <td>Rondônia</td>\n",
       "      <td>Alta Floresta D'Oeste</td>\n",
       "      <td>1100015</td>\n",
       "      <td>2004-2008</td>\n",
       "      <td>rural</td>\n",
       "      <td>chagas</td>\n",
       "      <td>0</td>\n",
       "      <td>0</td>\n",
       "    </tr>\n",
       "  </tbody>\n",
       "</table>\n",
       "</div>"
      ],
      "text/plain": [
       "  state_abbrev     state           municipality  geocode     period   zone  \\\n",
       "0           RO  Rondônia  Alta Floresta D'Oeste  1100015  2004-2008  rural   \n",
       "\n",
       "  disease cases inc  \n",
       "0  chagas     0   0  "
      ]
     },
     "execution_count": 4,
     "metadata": {},
     "output_type": "execute_result"
    }
   ],
   "source": [
    "data_epid.head(1)"
   ]
  },
  {
   "cell_type": "markdown",
   "id": "583b715c-5819-41ec-9f5e-34d550919f0e",
   "metadata": {
    "jp-MarkdownHeadingCollapsed": true
   },
   "source": [
    "#### Environmental_dimension_indicators"
   ]
  },
  {
   "cell_type": "code",
   "execution_count": 5,
   "id": "b3166a93-3ccd-487b-b637-adfb7af4afa7",
   "metadata": {},
   "outputs": [
    {
     "data": {
      "text/html": [
       "<div>\n",
       "<style scoped>\n",
       "    .dataframe tbody tr th:only-of-type {\n",
       "        vertical-align: middle;\n",
       "    }\n",
       "\n",
       "    .dataframe tbody tr th {\n",
       "        vertical-align: top;\n",
       "    }\n",
       "\n",
       "    .dataframe thead th {\n",
       "        text-align: right;\n",
       "    }\n",
       "</style>\n",
       "<table border=\"1\" class=\"dataframe\">\n",
       "  <thead>\n",
       "    <tr style=\"text-align: right;\">\n",
       "      <th></th>\n",
       "      <th>state_abbrev,\"state\",\"municipality\",\"geocode\",\"period\",\"refor\",\"secveg\",\"pasture\",\"crop\",\"urban\",\"core\",\"edge\",\"port\",\"river\",\"road\",\"mining\",\"fire\",\"dgorg\",\"dgfor\",\"defor\",\"deorg\",\"precp\",\"precn\",\"tempp\"</th>\n",
       "    </tr>\n",
       "  </thead>\n",
       "  <tbody>\n",
       "    <tr>\n",
       "      <th>0</th>\n",
       "      <td>AC,\"Acre\",\"Santa Rosa do Purus\",\"1200435\",2006...</td>\n",
       "    </tr>\n",
       "  </tbody>\n",
       "</table>\n",
       "</div>"
      ],
      "text/plain": [
       "  state_abbrev,\"state\",\"municipality\",\"geocode\",\"period\",\"refor\",\"secveg\",\"pasture\",\"crop\",\"urban\",\"core\",\"edge\",\"port\",\"river\",\"road\",\"mining\",\"fire\",\"dgorg\",\"dgfor\",\"defor\",\"deorg\",\"precp\",\"precn\",\"tempp\"\n",
       "0  AC,\"Acre\",\"Santa Rosa do Purus\",\"1200435\",2006...                                                                                                                                                          "
      ]
     },
     "execution_count": 5,
     "metadata": {},
     "output_type": "execute_result"
    }
   ],
   "source": [
    "data_env.head(1)"
   ]
  },
  {
   "cell_type": "code",
   "execution_count": 6,
   "id": "edfeac0e-2e48-4cef-940d-c25d949d9d51",
   "metadata": {},
   "outputs": [],
   "source": [
    "data_env = data_env.replace(r'\"', '', regex=True)                      \n",
    "data_env.columns = data_env.columns.map(lambda x: x.replace('\"', '')) \n",
    "\n",
    "cols_to_use_env = ['state_abbrev','state','municipality','geocode','period','refor','secveg','pasture','crop','urban','core','edge','port','river','road',\n",
    "                   'mining','fire','dgorg','dgfor','defor','deorg','precp','precn','tempp']\n",
    "\n",
    "data_env = data_env['state_abbrev,state,municipality,geocode,period,refor,secveg,pasture,crop,urban,core,edge,port,river,road,mining,fire,dgorg,dgfor,defor,deorg,precp,precn,tempp'].str.split(',', expand=True) \n",
    "data_env.columns = cols_to_use_env"
   ]
  },
  {
   "cell_type": "code",
   "execution_count": 7,
   "id": "0920312b-d930-44ac-84ed-dacdf1965391",
   "metadata": {},
   "outputs": [
    {
     "data": {
      "text/html": [
       "<div>\n",
       "<style scoped>\n",
       "    .dataframe tbody tr th:only-of-type {\n",
       "        vertical-align: middle;\n",
       "    }\n",
       "\n",
       "    .dataframe tbody tr th {\n",
       "        vertical-align: top;\n",
       "    }\n",
       "\n",
       "    .dataframe thead th {\n",
       "        text-align: right;\n",
       "    }\n",
       "</style>\n",
       "<table border=\"1\" class=\"dataframe\">\n",
       "  <thead>\n",
       "    <tr style=\"text-align: right;\">\n",
       "      <th></th>\n",
       "      <th>state_abbrev</th>\n",
       "      <th>state</th>\n",
       "      <th>municipality</th>\n",
       "      <th>geocode</th>\n",
       "      <th>period</th>\n",
       "      <th>refor</th>\n",
       "      <th>secveg</th>\n",
       "      <th>pasture</th>\n",
       "      <th>crop</th>\n",
       "      <th>urban</th>\n",
       "      <th>...</th>\n",
       "      <th>road</th>\n",
       "      <th>mining</th>\n",
       "      <th>fire</th>\n",
       "      <th>dgorg</th>\n",
       "      <th>dgfor</th>\n",
       "      <th>defor</th>\n",
       "      <th>deorg</th>\n",
       "      <th>precp</th>\n",
       "      <th>precn</th>\n",
       "      <th>tempp</th>\n",
       "    </tr>\n",
       "  </thead>\n",
       "  <tbody>\n",
       "    <tr>\n",
       "      <th>0</th>\n",
       "      <td>AC</td>\n",
       "      <td>Acre</td>\n",
       "      <td>Santa Rosa do Purus</td>\n",
       "      <td>1200435</td>\n",
       "      <td>2006</td>\n",
       "      <td>0.989033906077736</td>\n",
       "      <td>0.004425873753141</td>\n",
       "      <td>0.002312875961319</td>\n",
       "      <td>0</td>\n",
       "      <td>0</td>\n",
       "      <td>...</td>\n",
       "      <td>0</td>\n",
       "      <td>0</td>\n",
       "      <td>0.000223363859727</td>\n",
       "      <td>NA</td>\n",
       "      <td>NA</td>\n",
       "      <td>0.004258180188256</td>\n",
       "      <td>0.004232703201579</td>\n",
       "      <td>0.077975386211401</td>\n",
       "      <td>0</td>\n",
       "      <td>0.258956566625444</td>\n",
       "    </tr>\n",
       "  </tbody>\n",
       "</table>\n",
       "<p>1 rows × 24 columns</p>\n",
       "</div>"
      ],
      "text/plain": [
       "  state_abbrev state         municipality  geocode period              refor  \\\n",
       "0           AC  Acre  Santa Rosa do Purus  1200435   2006  0.989033906077736   \n",
       "\n",
       "              secveg            pasture crop urban  ... road mining  \\\n",
       "0  0.004425873753141  0.002312875961319    0     0  ...    0      0   \n",
       "\n",
       "                fire dgorg dgfor              defor              deorg  \\\n",
       "0  0.000223363859727    NA    NA  0.004258180188256  0.004232703201579   \n",
       "\n",
       "               precp precn              tempp  \n",
       "0  0.077975386211401     0  0.258956566625444  \n",
       "\n",
       "[1 rows x 24 columns]"
      ]
     },
     "execution_count": 7,
     "metadata": {},
     "output_type": "execute_result"
    }
   ],
   "source": [
    "data_env.head(1)"
   ]
  },
  {
   "cell_type": "markdown",
   "id": "ff2a0020-7d5e-4ba0-b169-a38a18a4f07a",
   "metadata": {
    "jp-MarkdownHeadingCollapsed": true
   },
   "source": [
    "#### Socio-Economic_dimension-indicators"
   ]
  },
  {
   "cell_type": "code",
   "execution_count": 8,
   "id": "bfd8350b-0bd2-4989-839e-8a8b9363cee4",
   "metadata": {},
   "outputs": [
    {
     "data": {
      "text/html": [
       "<div>\n",
       "<style scoped>\n",
       "    .dataframe tbody tr th:only-of-type {\n",
       "        vertical-align: middle;\n",
       "    }\n",
       "\n",
       "    .dataframe tbody tr th {\n",
       "        vertical-align: top;\n",
       "    }\n",
       "\n",
       "    .dataframe thead th {\n",
       "        text-align: right;\n",
       "    }\n",
       "</style>\n",
       "<table border=\"1\" class=\"dataframe\">\n",
       "  <thead>\n",
       "    <tr style=\"text-align: right;\">\n",
       "      <th></th>\n",
       "      <th>state_abbrev,\"state\",\"municipality\",\"geocode\",\"year\",\"sit\",\"carpond\",\"h\",\"a\",\"ipm\",\"csaude\",\"ceduca\",\"ccv\",\"cnv\",\"totpescar\",\"totpesres\"</th>\n",
       "    </tr>\n",
       "  </thead>\n",
       "  <tbody>\n",
       "    <tr>\n",
       "      <th>0</th>\n",
       "      <td>RO,\"Rondônia\",\"Alta Floresta D'Oeste\",1100015,...</td>\n",
       "    </tr>\n",
       "  </tbody>\n",
       "</table>\n",
       "</div>"
      ],
      "text/plain": [
       "  state_abbrev,\"state\",\"municipality\",\"geocode\",\"year\",\"sit\",\"carpond\",\"h\",\"a\",\"ipm\",\"csaude\",\"ceduca\",\"ccv\",\"cnv\",\"totpescar\",\"totpesres\"\n",
       "0  RO,\"Rondônia\",\"Alta Floresta D'Oeste\",1100015,...                                                                                      "
      ]
     },
     "execution_count": 8,
     "metadata": {},
     "output_type": "execute_result"
    }
   ],
   "source": [
    "data_socio.head(1)"
   ]
  },
  {
   "cell_type": "code",
   "execution_count": 9,
   "id": "2b4b06ac-1f42-47dc-aa2a-3f5794af4b0f",
   "metadata": {},
   "outputs": [],
   "source": [
    "data_socio = data_socio.replace(r'\"', '', regex=True)\n",
    "data_socio.columns = data_socio.columns.map(lambda x: x.replace('\"', ''))\n",
    "\n",
    "cols_to_use_env = ['state_abbrev','state','municipality','geocode','year','sit','carpond','h','a','ipm','csaude','ceduca','ccv','cnv','totpescar','totpesres']\n",
    "\n",
    "data_socio = data_socio['state_abbrev,state,municipality,geocode,year,sit,carpond,h,a,ipm,csaude,ceduca,ccv,cnv,totpescar,totpesres'].str.split(',', expand=True) \n",
    "data_socio.columns = cols_to_use_env"
   ]
  },
  {
   "cell_type": "code",
   "execution_count": 10,
   "id": "c8f4afbd-93b6-4f69-91c6-ed8dab981345",
   "metadata": {},
   "outputs": [
    {
     "data": {
      "text/html": [
       "<div>\n",
       "<style scoped>\n",
       "    .dataframe tbody tr th:only-of-type {\n",
       "        vertical-align: middle;\n",
       "    }\n",
       "\n",
       "    .dataframe tbody tr th {\n",
       "        vertical-align: top;\n",
       "    }\n",
       "\n",
       "    .dataframe thead th {\n",
       "        text-align: right;\n",
       "    }\n",
       "</style>\n",
       "<table border=\"1\" class=\"dataframe\">\n",
       "  <thead>\n",
       "    <tr style=\"text-align: right;\">\n",
       "      <th></th>\n",
       "      <th>state_abbrev</th>\n",
       "      <th>state</th>\n",
       "      <th>municipality</th>\n",
       "      <th>geocode</th>\n",
       "      <th>year</th>\n",
       "      <th>sit</th>\n",
       "      <th>carpond</th>\n",
       "      <th>h</th>\n",
       "      <th>a</th>\n",
       "      <th>ipm</th>\n",
       "      <th>csaude</th>\n",
       "      <th>ceduca</th>\n",
       "      <th>ccv</th>\n",
       "      <th>cnv</th>\n",
       "      <th>totpescar</th>\n",
       "      <th>totpesres</th>\n",
       "    </tr>\n",
       "  </thead>\n",
       "  <tbody>\n",
       "    <tr>\n",
       "      <th>0</th>\n",
       "      <td>RO</td>\n",
       "      <td>Rondônia</td>\n",
       "      <td>Alta Floresta D'Oeste</td>\n",
       "      <td>1100015</td>\n",
       "      <td>2000</td>\n",
       "      <td>rural</td>\n",
       "      <td>0.378771998</td>\n",
       "      <td>0.861731844</td>\n",
       "      <td>0.429082735</td>\n",
       "      <td>0.369754256</td>\n",
       "      <td>0.114733458</td>\n",
       "      <td>0.299188345</td>\n",
       "      <td>0.246599366</td>\n",
       "      <td>0.339478832</td>\n",
       "      <td>1234</td>\n",
       "      <td>1432</td>\n",
       "    </tr>\n",
       "  </tbody>\n",
       "</table>\n",
       "</div>"
      ],
      "text/plain": [
       "  state_abbrev     state           municipality  geocode  year    sit  \\\n",
       "0           RO  Rondônia  Alta Floresta D'Oeste  1100015  2000  rural   \n",
       "\n",
       "       carpond            h            a          ipm       csaude  \\\n",
       "0  0.378771998  0.861731844  0.429082735  0.369754256  0.114733458   \n",
       "\n",
       "        ceduca          ccv          cnv totpescar totpesres  \n",
       "0  0.299188345  0.246599366  0.339478832      1234      1432  "
      ]
     },
     "execution_count": 10,
     "metadata": {},
     "output_type": "execute_result"
    }
   ],
   "source": [
    "data_socio.head(1)"
   ]
  },
  {
   "cell_type": "markdown",
   "id": "e9f85154-f891-48df-b9c5-a0a200af7715",
   "metadata": {},
   "source": [
    "### 1.2 Test & Train\n",
    "Separar um conjunto do train para validação (80/20).\n",
    "> importando o dataset como \"data_epid\" e usando \"test_epid\" para testar, \"train_epid\" para treinar.\n"
   ]
  },
  {
   "cell_type": "code",
   "execution_count": 11,
   "id": "a174a822-93a3-408e-851c-460f7f767e10",
   "metadata": {},
   "outputs": [],
   "source": [
    "test_epid = data_epid\n",
    "test_env = data_env\n",
    "test_socio = data_socio"
   ]
  },
  {
   "cell_type": "code",
   "execution_count": 12,
   "id": "feb6c468-adc1-406f-b6ff-afd32148b6b6",
   "metadata": {},
   "outputs": [],
   "source": [
    "train_epid = data_epid\n",
    "train_env = data_env\n",
    "train_socio = data_socio"
   ]
  },
  {
   "cell_type": "code",
   "execution_count": 13,
   "id": "4334c46a-a3e0-4621-8445-f13907fb2309",
   "metadata": {},
   "outputs": [
    {
     "data": {
      "text/html": [
       "<div>\n",
       "<style scoped>\n",
       "    .dataframe tbody tr th:only-of-type {\n",
       "        vertical-align: middle;\n",
       "    }\n",
       "\n",
       "    .dataframe tbody tr th {\n",
       "        vertical-align: top;\n",
       "    }\n",
       "\n",
       "    .dataframe thead th {\n",
       "        text-align: right;\n",
       "    }\n",
       "</style>\n",
       "<table border=\"1\" class=\"dataframe\">\n",
       "  <thead>\n",
       "    <tr style=\"text-align: right;\">\n",
       "      <th></th>\n",
       "      <th>state_abbrev</th>\n",
       "      <th>state</th>\n",
       "      <th>municipality</th>\n",
       "      <th>geocode</th>\n",
       "      <th>period</th>\n",
       "      <th>zone</th>\n",
       "      <th>disease</th>\n",
       "      <th>cases</th>\n",
       "      <th>inc</th>\n",
       "    </tr>\n",
       "  </thead>\n",
       "  <tbody>\n",
       "    <tr>\n",
       "      <th>0</th>\n",
       "      <td>RO</td>\n",
       "      <td>Rondônia</td>\n",
       "      <td>Alta Floresta D'Oeste</td>\n",
       "      <td>1100015</td>\n",
       "      <td>2004-2008</td>\n",
       "      <td>rural</td>\n",
       "      <td>chagas</td>\n",
       "      <td>0</td>\n",
       "      <td>0</td>\n",
       "    </tr>\n",
       "    <tr>\n",
       "      <th>1</th>\n",
       "      <td>RO</td>\n",
       "      <td>Rondônia</td>\n",
       "      <td>Alto Alegre dos Parecis</td>\n",
       "      <td>1100379</td>\n",
       "      <td>2004-2008</td>\n",
       "      <td>rural</td>\n",
       "      <td>chagas</td>\n",
       "      <td>0</td>\n",
       "      <td>0</td>\n",
       "    </tr>\n",
       "    <tr>\n",
       "      <th>2</th>\n",
       "      <td>RO</td>\n",
       "      <td>Rondônia</td>\n",
       "      <td>Alto Paraíso</td>\n",
       "      <td>1100403</td>\n",
       "      <td>2004-2008</td>\n",
       "      <td>rural</td>\n",
       "      <td>chagas</td>\n",
       "      <td>0</td>\n",
       "      <td>0</td>\n",
       "    </tr>\n",
       "    <tr>\n",
       "      <th>3</th>\n",
       "      <td>RO</td>\n",
       "      <td>Rondônia</td>\n",
       "      <td>Alvorada D'Oeste</td>\n",
       "      <td>1100346</td>\n",
       "      <td>2004-2008</td>\n",
       "      <td>rural</td>\n",
       "      <td>chagas</td>\n",
       "      <td>0</td>\n",
       "      <td>0</td>\n",
       "    </tr>\n",
       "    <tr>\n",
       "      <th>4</th>\n",
       "      <td>RO</td>\n",
       "      <td>Rondônia</td>\n",
       "      <td>Ariquemes</td>\n",
       "      <td>1100023</td>\n",
       "      <td>2004-2008</td>\n",
       "      <td>rural</td>\n",
       "      <td>chagas</td>\n",
       "      <td>1</td>\n",
       "      <td>1.5033963749593</td>\n",
       "    </tr>\n",
       "  </tbody>\n",
       "</table>\n",
       "</div>"
      ],
      "text/plain": [
       "  state_abbrev     state             municipality  geocode     period   zone  \\\n",
       "0           RO  Rondônia    Alta Floresta D'Oeste  1100015  2004-2008  rural   \n",
       "1           RO  Rondônia  Alto Alegre dos Parecis  1100379  2004-2008  rural   \n",
       "2           RO  Rondônia             Alto Paraíso  1100403  2004-2008  rural   \n",
       "3           RO  Rondônia         Alvorada D'Oeste  1100346  2004-2008  rural   \n",
       "4           RO  Rondônia                Ariquemes  1100023  2004-2008  rural   \n",
       "\n",
       "  disease cases              inc  \n",
       "0  chagas     0                0  \n",
       "1  chagas     0                0  \n",
       "2  chagas     0                0  \n",
       "3  chagas     0                0  \n",
       "4  chagas     1  1.5033963749593  "
      ]
     },
     "execution_count": 13,
     "metadata": {},
     "output_type": "execute_result"
    }
   ],
   "source": [
    "test_epid.head()"
   ]
  },
  {
   "cell_type": "code",
   "execution_count": null,
   "id": "2a5c9cc3-4e6e-430c-bda8-29ae22254f9b",
   "metadata": {},
   "outputs": [],
   "source": []
  },
  {
   "cell_type": "code",
   "execution_count": null,
   "id": "71504386-4795-49d8-8004-a2159669d5a5",
   "metadata": {},
   "outputs": [],
   "source": []
  },
  {
   "cell_type": "markdown",
   "id": "1906f7b8-8d45-4973-b8db-a310730756be",
   "metadata": {},
   "source": [
    "### 1.3 Filtrando dados/Cleaning\n",
    "* Selecionar as features/colunas a serem usadas.\n",
    "* Eliminar, concatenar ou converter dados, setar valores Null, etc."
   ]
  },
  {
   "cell_type": "code",
   "execution_count": null,
   "id": "0a4c0080-0ebf-4363-bea9-05ceb654af37",
   "metadata": {},
   "outputs": [],
   "source": []
  },
  {
   "cell_type": "code",
   "execution_count": null,
   "id": "e725b2b0-0e81-4005-a2e8-3b628084aa28",
   "metadata": {},
   "outputs": [],
   "source": []
  },
  {
   "cell_type": "raw",
   "id": "e8e40600-0769-4f97-991c-67766dedd1a1",
   "metadata": {},
   "source": []
  },
  {
   "cell_type": "markdown",
   "id": "725cb202-a507-480f-a64a-b49a4c6f83c2",
   "metadata": {},
   "source": [
    "## 2. Analisar tendências\n"
   ]
  },
  {
   "cell_type": "code",
   "execution_count": null,
   "id": "c4255fc3-0acd-4226-9d1c-4aebb13c2d9d",
   "metadata": {},
   "outputs": [],
   "source": []
  },
  {
   "cell_type": "code",
   "execution_count": 14,
   "id": "be0b26bf-409e-4351-9b48-419ab36eca74",
   "metadata": {},
   "outputs": [],
   "source": [
    "# ..."
   ]
  },
  {
   "cell_type": "code",
   "execution_count": 15,
   "id": "102ac468-b08b-40cf-89e5-ec7957965250",
   "metadata": {},
   "outputs": [],
   "source": [
    "# ..."
   ]
  },
  {
   "cell_type": "markdown",
   "id": "ef6407d1-bd6c-49ea-8d9e-11059f4f3671",
   "metadata": {},
   "source": [
    "## 3. Analisar dados demográficos\n"
   ]
  },
  {
   "cell_type": "code",
   "execution_count": 16,
   "id": "71c3fc48-88da-49e9-b816-17aa93e6103d",
   "metadata": {},
   "outputs": [],
   "source": [
    "# ..."
   ]
  },
  {
   "cell_type": "code",
   "execution_count": null,
   "id": "3b494e09-364b-499c-87be-20723e4ca35b",
   "metadata": {},
   "outputs": [],
   "source": []
  },
  {
   "cell_type": "markdown",
   "id": "83b58bac-e851-4650-9ba1-d0f6b57b44ab",
   "metadata": {},
   "source": [
    "## 4. Analisar dados ambientais\n"
   ]
  },
  {
   "cell_type": "code",
   "execution_count": null,
   "id": "79acb360-4653-4008-a6a5-a4e70ecc9f6e",
   "metadata": {},
   "outputs": [],
   "source": []
  },
  {
   "cell_type": "code",
   "execution_count": null,
   "id": "2c1b09f1-12ce-4e30-a839-99f57d3705fd",
   "metadata": {},
   "outputs": [],
   "source": []
  },
  {
   "cell_type": "code",
   "execution_count": null,
   "id": "7aef08ca-4254-48f1-8fcf-abee1667f3fd",
   "metadata": {},
   "outputs": [],
   "source": []
  },
  {
   "cell_type": "markdown",
   "id": "df1680c1-29aa-4f1f-b380-05db21313dec",
   "metadata": {},
   "source": [
    "## 5. Analisar dados econômicos\n"
   ]
  },
  {
   "cell_type": "code",
   "execution_count": 17,
   "id": "b31b94d8-bedc-4e1d-9f5c-41396edb6b53",
   "metadata": {},
   "outputs": [],
   "source": [
    "# ..."
   ]
  },
  {
   "cell_type": "code",
   "execution_count": null,
   "id": "f02f049c-2796-47a0-afce-3c132303338c",
   "metadata": {},
   "outputs": [],
   "source": []
  },
  {
   "cell_type": "code",
   "execution_count": null,
   "id": "d0d3e01e-ab32-4eed-b51e-5100b89f7cde",
   "metadata": {},
   "outputs": [],
   "source": []
  }
 ],
 "metadata": {
  "kernelspec": {
   "display_name": "Python 3 (ipykernel)",
   "language": "python",
   "name": "python3"
  },
  "language_info": {
   "codemirror_mode": {
    "name": "ipython",
    "version": 3
   },
   "file_extension": ".py",
   "mimetype": "text/x-python",
   "name": "python",
   "nbconvert_exporter": "python",
   "pygments_lexer": "ipython3",
   "version": "3.10.11"
  }
 },
 "nbformat": 4,
 "nbformat_minor": 5
}
