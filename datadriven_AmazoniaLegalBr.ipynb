{
 "cells": [
  {
   "cell_type": "markdown",
   "id": "cc68274d-5331-43ec-924b-753398e83d86",
   "metadata": {},
   "source": [
    "# Análise de indicadores da Amazônia Legal Brasileira: uma perspectiva data-driven \r",
    " \r",
    "`Projeto disciplinar INTI6 (2023) - Inteligência Artificial` - `Aplicar técnicas de Ciência de Dados em um conjunto de dados (dataset).`\n",
    "\n",
    "> Pamela Dantas - CP3019012\n",
    "\n",
    "> Matheus Tosi - CP3019098\n",
    "\r\n",
    "\n",
    "\r\n",
    "Uma perspectiva data-driven é uma abordagem que se baseia em dados para tomar decisões\r\n",
    "\r\n",
    "Essa abordagem enfatiza a importância da coleta, análise e interpretação de dados para entender um problema e identificar soluções. "
   ]
  },
  {
   "cell_type": "markdown",
   "id": "1c25de66-78a0-4b85-83ae-70f69394b88b",
   "metadata": {},
   "source": [
    "## Contextualização\n",
    "\n",
    "O desmatamento na Amazônia Legal Brasileira -- uma região de grande importância ecológica, econômica e social para o país -- é um problema grave que ameaça a integridade do local, causando a perda de biodiversidade, a redução da qualidade do solo e da água, e a intensificação do aquecimento e ebulição global. \n",
    "\n",
    "Acreditamos que este data-driven possa contribuir para a compreensão e o combate ao desmatamento da Amazônia Legal, pois o uso de dados é uma abordagem promissora para entender o problema. Por exemplo, podemos utilizar dos dados extraídos para:\n",
    "\n",
    "* identificar tendências de desmatamento ao longo do tempo, entender as causas do desmatamento;\n",
    "* identificar áreas com maior risco de desmatamento e áreas que precisam de atenção especial; \n",
    "* identificar correlações entre o desmatamento e outros fatores, como o desenvolvimento econômico, a pobreza e a mudança climática;\n",
    "* identificar as regiões da Amazônia Legal com os maiores índices de pobreza; \n",
    "* comparar as tendências ambientais, socioeconômicas e epidemiológicas na Amazônia Legal ao longo do tempo. "
   ]
  },
  {
   "cell_type": "markdown",
   "id": "8c31fefb-f56f-4796-bdd6-776b109617cc",
   "metadata": {},
   "source": [
    "## Base de dados"
   ]
  },
  {
   "cell_type": "markdown",
   "id": "19897ee0-0129-427c-8aaa-974b94f061b2",
   "metadata": {},
   "source": [
    "##### Dataset \n",
    "\n",
    "A base de dados, chamada \"Trajetória\", contém 36 indicadores ambientais, socioeconômicos e epidemiológicos dos municípios dos nove estados da Amazônia Legal Brasileira no perído de 2000-2017. A \"Trajetória\" é resultado de um projeto do Centro de Síntese em Biodiversidade e Serviços Ecossistêmicos (SinBiose/CNPq).\n",
    "\n",
    "##### Os indicadores são organizados em três dimensões principais:\n",
    "\n",
    "* Dimensão Socioeconómica: Esta dimensão inclui indicadores relacionados com pobreza, educação, saúde e habitação;\n",
    "* Dimensão Epidemiológica: Esta dimensão inclui indicadores relacionados às doenças transmitidas por vetores;\n",
    "* Dimensão Ambiental: Esta dimensão inclui indicadores relacionados à perda de habitat, uso e cobertura da terra, redes de transporte e anomalias climáticas;\n",
    "\n",
    "Cada dimensão é ainda dividida em subdimensões, que fornecem informações mais específicas sobre os indicadores. Por exemplo, a subdimensão “Pobreza” inclui indicadores relacionados ao Índice Multidimensional de Pobreza (IPM), enquanto a subdimensão “Doenças transmitidas por vetores” inclui indicadores relacionados à doença de Chagas, leishmaniose, leishmaniose visceral, dengue, malária falciparum, malária vivax e malária mista.\n",
    "\n",
    "Os indicadores também estão organizados por linha temporal, que nos mostra o período de tempo para o qual os dados estão disponíveis. Por exemplo, o indicador “IPM” está disponível para os anos 2000 e 2010, enquanto o indicador “Doença” está disponível para os períodos 2004-2008 e 2015-2019.\n",
    "\n",
    "\n",
    "Bibliografia:\n",
    ">Ana C Rorato, Ana Paula Dal' Asta, Raquel M Lana, Ricardo B N dos Santos, Maria Isabel S Escada, Camila de M Vogt, Tatiana C Neves, Milton Barbosa, Cecilia S Andreazzi, Isabel C dos Reis, Danilo A Fernandes, Monica da Silva-Nunes, Annieli R de Souza, Antonio M V Monteiro, & Claudia T Codeço. (2022). Trajetorias dataset: environmental, epidemiological, and economic indicators for the Brazilian Amazon (1.0) [Data set]. Zenodo. https://doi.org/10.5281/zenodo.7098053"
   ]
  },
  {
   "cell_type": "markdown",
   "id": "3f430c70-1aae-4bac-a64c-a6966e0ed0b5",
   "metadata": {},
   "source": [
    "### Importando o dataset localmente"
   ]
  },
  {
   "cell_type": "raw",
   "id": "85f30ed6-8ee0-4e6f-967a-d53c8dd80a44",
   "metadata": {},
   "source": [
    "# Importar as bibliotecas necessárias\n",
    "import numpy as np\n",
    "import pandas as pd\n",
    "import matplotlib.pyplot as plt\n",
    "\n",
    "# IDA - Indicadores de Dimensão Ambiental\n",
    "data_ida = pd.read_csv(\"base/TRAJETORIAS_DATASET_Environmental_dimension_indicators.csv\")\n",
    "\n",
    "# IDE - Indicadores de Dimensão Epidemiológica\n",
    "data_ida = pd.read_csv(\"base/TRAJETORIAS_DATASET_Epidemiological_dimension_indicators.csv\")\n",
    "\n",
    "# IDS - Indicadores da Dimensão Socioeconomica\n",
    "data_ida = pd.read_csv(\"base/TRAJETORIAS_DATASET_Socio-Economic_dimension-indicators.csv\")\n"
   ]
  },
  {
   "cell_type": "markdown",
   "id": "a1b1b70b-b895-4ba8-b269-5d26e850473d",
   "metadata": {},
   "source": [
    "### Importando o dataset do GitHub"
   ]
  },
  {
   "cell_type": "code",
   "execution_count": 1,
   "id": "7a04ac05-6012-4923-9bbe-4e953fc928c9",
   "metadata": {},
   "outputs": [],
   "source": [
    "import numpy as np\n",
    "import pandas as pd\n",
    "import matplotlib.pyplot as plt\n",
    "\n",
    "# IDA - Indicadores de Dimensão Ambiental\n",
    "data_ida = pd.read_csv(\"https://raw.githubusercontent.com/pameladantasp/AmazoniaLegalBrasileira-DataDriven--Projeto_INTI6/BaseDeDados/TRAJETORIAS_DATASET_Environmental_dimension_indicators.csv\")\n",
    "\n",
    "# IDE - Indicadores de Dimensão Epidemiológica\n",
    "data_ide = pd.read_csv(\"https://raw.githubusercontent.com/pameladantasp/AmazoniaLegalBrasileira-DataDriven--Projeto_INTI6/BaseDeDados/TRAJETORIAS_DATASET_Epidemiological_dimension_indicators.csv\")\n",
    "\n",
    "# IDS - Indicadores da Dimensão Socioeconomica\n",
    "data_ids = pd.read_csv(\"https://raw.githubusercontent.com/pameladantasp/AmazoniaLegalBrasileira-DataDriven--Projeto_INTI6/BaseDeDados/TRAJETORIAS_DATASET_Socio-Economic_dimension-indicators.csv\")\n"
   ]
  },
  {
   "cell_type": "markdown",
   "id": "84373149-62ec-45be-91de-82142f1e2b15",
   "metadata": {},
   "source": [
    "## 1. Explorar os dados\n",
    "\n",
    "Entender o que a base de dados pode nos “contar”, sobre o que cada coluna se trata; "
   ]
  },
  {
   "cell_type": "code",
   "execution_count": 3,
   "id": "095102ed-d882-4f71-acf6-8dec1e740065",
   "metadata": {},
   "outputs": [],
   "source": [
    "# data_ida.head()\n",
    "# data_ida.describe()\n"
   ]
  },
  {
   "cell_type": "markdown",
   "id": "1906f7b8-8d45-4973-b8db-a310730756be",
   "metadata": {},
   "source": [
    "## 2. Pré-processamento\n",
    "\n",
    "Eliminar ou concatenar dados; eliminar valores nulos, juntar dados duplicados; converter dados, como horas e datas por exemplo, converter valores int/float/boolean; "
   ]
  },
  {
   "cell_type": "markdown",
   "id": "725cb202-a507-480f-a64a-b49a4c6f83c2",
   "metadata": {},
   "source": [
    "## 3. Analisar tendências\n"
   ]
  },
  {
   "cell_type": "code",
   "execution_count": 4,
   "id": "be0b26bf-409e-4351-9b48-419ab36eca74",
   "metadata": {},
   "outputs": [],
   "source": [
    "# ...\n",
    "\n"
   ]
  },
  {
   "cell_type": "markdown",
   "id": "a8d26c71-21d5-4849-819d-5c7721e4bf84",
   "metadata": {},
   "source": [
    "## 4. Analisar correlações\n"
   ]
  },
  {
   "cell_type": "code",
   "execution_count": 5,
   "id": "102ac468-b08b-40cf-89e5-ec7957965250",
   "metadata": {},
   "outputs": [],
   "source": [
    "# ...\n",
    "\n"
   ]
  },
  {
   "cell_type": "markdown",
   "id": "aa932d7e-b6d9-4d57-aaf9-7b6ad9d13ef2",
   "metadata": {},
   "source": [
    "## 5. Analisar dados espaciais\n"
   ]
  },
  {
   "cell_type": "code",
   "execution_count": 6,
   "id": "921d9f31-0267-4026-bf0f-ff0f3548a1fa",
   "metadata": {},
   "outputs": [],
   "source": [
    "# ...\n"
   ]
  },
  {
   "cell_type": "markdown",
   "id": "ef6407d1-bd6c-49ea-8d9e-11059f4f3671",
   "metadata": {},
   "source": [
    "## 6. Analisar dados demográficos\n"
   ]
  },
  {
   "cell_type": "code",
   "execution_count": 7,
   "id": "71c3fc48-88da-49e9-b816-17aa93e6103d",
   "metadata": {},
   "outputs": [],
   "source": [
    "# ...\n"
   ]
  },
  {
   "cell_type": "markdown",
   "id": "df1680c1-29aa-4f1f-b380-05db21313dec",
   "metadata": {},
   "source": [
    "## 7. Analisar dados econômicos\n"
   ]
  },
  {
   "cell_type": "code",
   "execution_count": 8,
   "id": "b31b94d8-bedc-4e1d-9f5c-41396edb6b53",
   "metadata": {},
   "outputs": [],
   "source": [
    "# ...\n",
    "\n"
   ]
  },
  {
   "cell_type": "code",
   "execution_count": null,
   "id": "d0d3e01e-ab32-4eed-b51e-5100b89f7cde",
   "metadata": {},
   "outputs": [],
   "source": []
  }
 ],
 "metadata": {
  "kernelspec": {
   "display_name": "Python 3 (ipykernel)",
   "language": "python",
   "name": "python3"
  },
  "language_info": {
   "codemirror_mode": {
    "name": "ipython",
    "version": 3
   },
   "file_extension": ".py",
   "mimetype": "text/x-python",
   "name": "python",
   "nbconvert_exporter": "python",
   "pygments_lexer": "ipython3",
   "version": "3.10.11"
  }
 },
 "nbformat": 4,
 "nbformat_minor": 5
}
