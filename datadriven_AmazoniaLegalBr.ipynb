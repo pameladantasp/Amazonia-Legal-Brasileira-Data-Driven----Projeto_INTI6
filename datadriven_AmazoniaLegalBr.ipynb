{
 "cells": [
  {
   "cell_type": "markdown",
   "id": "cc68274d-5331-43ec-924b-753398e83d86",
   "metadata": {},
   "source": [
    "# Análise de indicadores da Amazônia Legal Brasileira: uma perspectiva data-driven \r",
    " \r",
    "`Projeto disciplinar INTI6 (2023) - Inteligência Artificial` - `Aplicar técnicas de Ciência de Dados em um conjunto de dados (dataset).`\n",
    "\n",
    "> Pamela Dantas - CP3019012\n",
    "\n",
    "> Matheus Tosi - CP3019098\n",
    "\r\n",
    "\n",
    "\r\n",
    "Uma perspectiva data-driven é uma abordagem que se baseia em dados para tomar decisões\r\n",
    "\r\n",
    "Essa abordagem enfatiza a importância da coleta, análise e interpretação de dados para entender um problema e identificar soluções. "
   ]
  },
  {
   "cell_type": "markdown",
   "id": "1c25de66-78a0-4b85-83ae-70f69394b88b",
   "metadata": {},
   "source": [
    "## Contextualização\n",
    "\n",
    "O desmatamento na Amazônia Legal Brasileira -- uma região de grande importância ecológica, econômica e social para o país -- é um problema grave que ameaça a integridade do local, causando a perda de biodiversidade, a redução da qualidade do solo e da água, e a intensificação do aquecimento e ebulição global. \n",
    "\n",
    "Acreditamos que este data-driven possa contribuir para a compreensão e o combate ao desmatamento da Amazônia Legal, pois uso de dados é uma abordagem promissora para entender o problema. Por exemplo, podemos utilizar dos dados extraídos para:\n",
    "\n",
    "* identificar tendências de desmatamento ao longo do tempo, entender as causas do desmatamento e identificar áreas que precisam de atenção especial;\n",
    "* identificar áreas com maior risco de desmatamento;\n",
    "* identificar correlações entre o desmatamento e outros fatores, como o desenvolvimento econômico, a pobreza e a mudança climática.. "
   ]
  },
  {
   "cell_type": "markdown",
   "id": "8c31fefb-f56f-4796-bdd6-776b109617cc",
   "metadata": {},
   "source": [
    "## Base de dados"
   ]
  },
  {
   "cell_type": "markdown",
   "id": "19897ee0-0129-427c-8aaa-974b94f061b2",
   "metadata": {},
   "source": [
    "##### Dataset: \n",
    " \r\n",
    "https://www.ufsm.br/2023/02/03/amazonia-ganha-base-de-dados-inedita  \r\n",
    "\r\n",
    "https://zenodo.org/records/7098  \r\n",
    "\r\n",
    "A base de dados contém 36 indicadores ambientais, socioeconômicos e epidemiológicos dos 772 municípios dos nove estados da Amazônia Legal Brasileira, referentes ao período de 20007aes-ambientais-e-mais  "
   ]
  },
  {
   "cell_type": "markdown",
   "id": "cbe3fc7d-08dc-498a-a333-051b4a2758f7",
   "metadata": {},
   "source": [
    "##### Os indicadores estão organizados em seis temas: \n",
    "\n",
    "> Perda de habitat: taxa de desmatamento, taxa de fragmentação florestal, índice de cobertura florestal \n",
    "\n",
    "> Uso e cobertura da terra: área de pastagem, área de agricultura, área de floresta \n",
    "\n",
    "> Mobilidade humana: taxa de migração rural-urbana, taxa de migração internacional \n",
    "\n",
    "> Anomalias climáticas: precipitação, temperatura, evapotranspiração \n",
    "\n",
    "> Carga de doenças transmitidas por vetores: incidência de malária, incidência de dengue, incidência de chikungunya \n",
    "\n",
    "> Índices de pobreza multidimensional: índice de pobreza multidimensional rural, índice de pobreza multidimensional urbana \n"
   ]
  },
  {
   "cell_type": "markdown",
   "id": "3f430c70-1aae-4bac-a64c-a6966e0ed0b5",
   "metadata": {
    "jp-MarkdownHeadingCollapsed": true
   },
   "source": [
    "### Importando o dataset localmente"
   ]
  },
  {
   "cell_type": "code",
   "execution_count": 1,
   "id": "909cda86-b588-49f4-bf64-8e554a1e4ebe",
   "metadata": {},
   "outputs": [],
   "source": [
    "# Importar as bibliotecas necessárias\n",
    "import numpy as np\n",
    "import pandas as pd\n",
    "import matplotlib.pyplot as plt\n",
    "\n",
    "# IDA - Indicadores de Dimensão Ambiental\n",
    "data_ida = pd.read_csv(\"base/TRAJETORIAS_DATASET_Environmental_dimension_indicators.csv\")\n",
    "\n",
    "# IDE - Indicadores de Dimensão Epidemiológica\n",
    "data_ida = pd.read_csv(\"base/TRAJETORIAS_DATASET_Epidemiological_dimension_indicators.csv\")\n",
    "\n",
    "# IP - Indicadores da População\n",
    "data_ida = pd.read_csv(\"base/TRAJETORIAS_DATASET_Population_indicators.csv\")\n",
    "\n",
    "# IDS - Indicadores da Dimensão Socioeconomica\n",
    "data_ida = pd.read_csv(\"base/TRAJETORIAS_DATASET_Socio-Economic_dimension-indicators.csv\")\n"
   ]
  },
  {
   "cell_type": "markdown",
   "id": "a1b1b70b-b895-4ba8-b269-5d26e850473d",
   "metadata": {
    "jp-MarkdownHeadingCollapsed": true
   },
   "source": [
    "### Importando o dataset do GitHub"
   ]
  },
  {
   "cell_type": "code",
   "execution_count": 3,
   "id": "7a04ac05-6012-4923-9bbe-4e953fc928c9",
   "metadata": {},
   "outputs": [],
   "source": [
    "## inserir"
   ]
  },
  {
   "cell_type": "code",
   "execution_count": 2,
   "id": "8c47dde7-cb62-4457-894a-a2799b124bf9",
   "metadata": {},
   "outputs": [],
   "source": [
    "#### Importar apenas colunas\n",
    "## RASCUNHO\n",
    "\n",
    "# data = pd.read_csv(\"base/TRAJETORIAS_DATASET_Data_Source.csv\", usecols=[\"nome\"])\n",
    "#print(data.head())\n"
   ]
  },
  {
   "cell_type": "markdown",
   "id": "84373149-62ec-45be-91de-82142f1e2b15",
   "metadata": {},
   "source": [
    "## 1. Explorar os dados\n",
    "\n",
    "Entender o que a base de dados pode nos “contar”, sobre o que cada coluna se trata; "
   ]
  },
  {
   "cell_type": "code",
   "execution_count": 4,
   "id": "095102ed-d882-4f71-acf6-8dec1e740065",
   "metadata": {},
   "outputs": [],
   "source": [
    "# data.head()\n",
    "# data.describe()\n"
   ]
  },
  {
   "cell_type": "markdown",
   "id": "1906f7b8-8d45-4973-b8db-a310730756be",
   "metadata": {},
   "source": [
    "## 2. Pré-processamento\n",
    "\n",
    "Eliminar ou concatenar dados; eliminar valores nulos, juntar dados duplicados; converter dados, como horas e datas por exemplo, converter valores int/float/boolean; "
   ]
  },
  {
   "cell_type": "markdown",
   "id": "725cb202-a507-480f-a64a-b49a4c6f83c2",
   "metadata": {},
   "source": [
    "## 3. Analisar tendências\n"
   ]
  },
  {
   "cell_type": "code",
   "execution_count": null,
   "id": "be0b26bf-409e-4351-9b48-419ab36eca74",
   "metadata": {},
   "outputs": [],
   "source": [
    "# ...\n",
    "\n"
   ]
  },
  {
   "cell_type": "markdown",
   "id": "a8d26c71-21d5-4849-819d-5c7721e4bf84",
   "metadata": {},
   "source": [
    "## 4. Analisar correlações\n"
   ]
  },
  {
   "cell_type": "code",
   "execution_count": null,
   "id": "102ac468-b08b-40cf-89e5-ec7957965250",
   "metadata": {},
   "outputs": [],
   "source": [
    "# ...\n",
    "\n"
   ]
  },
  {
   "cell_type": "markdown",
   "id": "aa932d7e-b6d9-4d57-aaf9-7b6ad9d13ef2",
   "metadata": {},
   "source": [
    "## 5. Analisar dados espaciais\n"
   ]
  },
  {
   "cell_type": "code",
   "execution_count": null,
   "id": "921d9f31-0267-4026-bf0f-ff0f3548a1fa",
   "metadata": {},
   "outputs": [],
   "source": [
    "# ...\n"
   ]
  },
  {
   "cell_type": "markdown",
   "id": "ef6407d1-bd6c-49ea-8d9e-11059f4f3671",
   "metadata": {},
   "source": [
    "## 6. Analisar dados demográficos\n"
   ]
  },
  {
   "cell_type": "code",
   "execution_count": null,
   "id": "71c3fc48-88da-49e9-b816-17aa93e6103d",
   "metadata": {},
   "outputs": [],
   "source": [
    "# ...\n"
   ]
  },
  {
   "cell_type": "markdown",
   "id": "df1680c1-29aa-4f1f-b380-05db21313dec",
   "metadata": {},
   "source": [
    "## 7. Analisar dados econômicos\n"
   ]
  },
  {
   "cell_type": "code",
   "execution_count": null,
   "id": "b31b94d8-bedc-4e1d-9f5c-41396edb6b53",
   "metadata": {},
   "outputs": [],
   "source": [
    "# ...\n",
    "\n"
   ]
  },
  {
   "cell_type": "code",
   "execution_count": null,
   "id": "d0d3e01e-ab32-4eed-b51e-5100b89f7cde",
   "metadata": {},
   "outputs": [],
   "source": []
  }
 ],
 "metadata": {
  "kernelspec": {
   "display_name": "Python 3 (ipykernel)",
   "language": "python",
   "name": "python3"
  },
  "language_info": {
   "codemirror_mode": {
    "name": "ipython",
    "version": 3
   },
   "file_extension": ".py",
   "mimetype": "text/x-python",
   "name": "python",
   "nbconvert_exporter": "python",
   "pygments_lexer": "ipython3",
   "version": "3.10.11"
  }
 },
 "nbformat": 4,
 "nbformat_minor": 5
}
